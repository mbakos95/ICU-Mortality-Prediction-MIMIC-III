{
  "nbformat": 4,
  "nbformat_minor": 0,
  "metadata": {
    "colab": {
      "provenance": [],
      "authorship_tag": "ABX9TyMMLvKx7u3vv1UVWHcHxwjV",
      "include_colab_link": true
    },
    "kernelspec": {
      "name": "python3",
      "display_name": "Python 3"
    },
    "language_info": {
      "name": "python"
    }
  },
  "cells": [
    {
      "cell_type": "markdown",
      "metadata": {
        "id": "view-in-github",
        "colab_type": "text"
      },
      "source": [
        "<a href=\"https://colab.research.google.com/github/mbakos95/ICU-Mortality-Prediction-MIMIC-III-/blob/main/ICU_Mortality_Prediction_%E2%80%93_Notebook_1_Dataset_Preparation.ipynb\" target=\"_parent\"><img src=\"https://colab.research.google.com/assets/colab-badge.svg\" alt=\"Open In Colab\"/></a>"
      ]
    },
    {
      "cell_type": "markdown",
      "source": [
        "# **Step 1: Install Required Libraries**"
      ],
      "metadata": {
        "id": "o88Ry5NzlZWf"
      }
    },
    {
      "cell_type": "code",
      "execution_count": null,
      "metadata": {
        "id": "mlbifKvKhyTz"
      },
      "outputs": [],
      "source": [
        "!pip install pandas --quiet\n",
        "!pip install numpy --quiet\n"
      ]
    },
    {
      "cell_type": "markdown",
      "source": [
        "# **Step 2: Import Libraries**"
      ],
      "metadata": {
        "id": "MPxteEY0lfVX"
      }
    },
    {
      "cell_type": "code",
      "source": [
        "import os\n",
        "import pandas as pd\n",
        "import numpy as np\n"
      ],
      "metadata": {
        "id": "cpHHEMcblhr-"
      },
      "execution_count": null,
      "outputs": []
    },
    {
      "cell_type": "markdown",
      "source": [
        "# **Step 3: Mount Google Drive and Set Working Directory**\n"
      ],
      "metadata": {
        "id": "jnWzqpzFluD4"
      }
    },
    {
      "cell_type": "code",
      "source": [
        "from google.colab import drive\n",
        "drive.mount('/content/drive')\n",
        "\n",
        "project_path = \"/content/drive/MyDrive/AIDL MASTER/AIDL_02/Final project/ForTheProfessor\"\n",
        "os.chdir(project_path)\n"
      ],
      "metadata": {
        "colab": {
          "base_uri": "https://localhost:8080/"
        },
        "id": "UuDhjPyQmA-g",
        "outputId": "a84be321-0c93-4320-ec5f-e075e321ba4b"
      },
      "execution_count": null,
      "outputs": [
        {
          "output_type": "stream",
          "name": "stdout",
          "text": [
            "Mounted at /content/drive\n"
          ]
        }
      ]
    },
    {
      "cell_type": "markdown",
      "source": [
        "# **Step 4: Load Raw CSV Files**\n"
      ],
      "metadata": {
        "id": "DwF63NFVmGnY"
      }
    },
    {
      "cell_type": "code",
      "source": [
        "discharge_df = pd.read_csv(\"discharge.csv\")\n",
        "admissions_df = pd.read_csv(\"admissions.csv\")\n",
        "patients_df = pd.read_csv(\"patients.csv\")\n",
        "\n",
        "print(\" Loaded:\", discharge_df.shape, admissions_df.shape, patients_df.shape)\n"
      ],
      "metadata": {
        "colab": {
          "base_uri": "https://localhost:8080/"
        },
        "id": "l_OS_JOBmP1I",
        "outputId": "687e4e6c-3664-4ed8-968f-042fe0f79452"
      },
      "execution_count": null,
      "outputs": [
        {
          "output_type": "stream",
          "name": "stdout",
          "text": [
            " Loaded: (331793, 8) (431231, 16) (299712, 6)\n"
          ]
        }
      ]
    },
    {
      "cell_type": "markdown",
      "source": [
        "# **Step 5: Merge Tables and Generate Mortality Labels**\n"
      ],
      "metadata": {
        "id": "6Nf9OrRbm6Mx"
      }
    },
    {
      "cell_type": "code",
      "source": [
        "# Merge discharge with admissions to get dischtime\n",
        "merged_df = discharge_df.merge(admissions_df[['hadm_id', 'dischtime']], on='hadm_id', how='inner')\n",
        "\n",
        "# Merge with patients to get date of death (dod)\n",
        "merged_df = merged_df.merge(patients_df[['subject_id', 'dod']], on='subject_id', how='left')\n",
        "\n",
        "# Convert to datetime\n",
        "merged_df['dischtime'] = pd.to_datetime(merged_df['dischtime'])\n",
        "merged_df['dod'] = pd.to_datetime(merged_df['dod'])\n",
        "\n",
        "# Calculate 30-day mortality label\n",
        "merged_df['mortality_30d'] = merged_df.apply(\n",
        "    lambda row: 1 if pd.notnull(row['dod']) and (row['dod'] - row['dischtime']).days <= 30 else 0,\n",
        "    axis=1\n",
        ")\n",
        "\n",
        "print(\" Label counts:\\n\", merged_df['mortality_30d'].value_counts())\n"
      ],
      "metadata": {
        "id": "AyxtlybYnDXA",
        "colab": {
          "base_uri": "https://localhost:8080/"
        },
        "outputId": "0f42ebdc-60d6-413c-eac7-efa98d19e811"
      },
      "execution_count": null,
      "outputs": [
        {
          "output_type": "stream",
          "name": "stdout",
          "text": [
            " Label counts:\n",
            " mortality_30d\n",
            "0    314099\n",
            "1     17694\n",
            "Name: count, dtype: int64\n"
          ]
        }
      ]
    },
    {
      "cell_type": "markdown",
      "source": [
        "# **Step 6: Filter Notes by Type and Length**\n"
      ],
      "metadata": {
        "id": "vuk5gwHLnSF5"
      }
    },
    {
      "cell_type": "code",
      "source": [
        "filtered_df = merged_df.copy()\n",
        "\n",
        "# Keep only Discharge Summaries\n",
        "filtered_df = filtered_df[filtered_df['note_type'] == 'DS']\n",
        "\n",
        "# Remove missing or short texts\n",
        "filtered_df = filtered_df[filtered_df['text'].notnull()]\n",
        "filtered_df = filtered_df[filtered_df['text'].str.len() > 500]\n",
        "\n",
        "print(\"Filtered shape:\", filtered_df.shape)\n"
      ],
      "metadata": {
        "colab": {
          "base_uri": "https://localhost:8080/"
        },
        "id": "UcAgCGPVnYro",
        "outputId": "03969fb5-3d2d-4480-e0c7-71783b16a380"
      },
      "execution_count": null,
      "outputs": [
        {
          "output_type": "stream",
          "name": "stdout",
          "text": [
            "Filtered shape: (331791, 11)\n"
          ]
        }
      ]
    },
    {
      "cell_type": "markdown",
      "source": [
        "# **Step 7: Balance the Dataset**\n"
      ],
      "metadata": {
        "id": "UqHwGOmNnkVc"
      }
    },
    {
      "cell_type": "code",
      "source": [
        "# Equal number of class 0 and class 1\n",
        "df_0 = filtered_df[filtered_df['mortality_30d'] == 0].sample(n=15000, random_state=42)\n",
        "df_1 = filtered_df[filtered_df['mortality_30d'] == 1].sample(n=15000, random_state=42)\n",
        "\n",
        "balanced_df = pd.concat([df_0, df_1]).sample(frac=1, random_state=42).reset_index(drop=True)\n"
      ],
      "metadata": {
        "id": "Ji3p2zJlnqvY"
      },
      "execution_count": null,
      "outputs": []
    },
    {
      "cell_type": "markdown",
      "source": [
        "# **Step 8: Save Final Output as CSV**\n"
      ],
      "metadata": {
        "id": "6VX0KZ0MnuC2"
      }
    },
    {
      "cell_type": "code",
      "source": [
        "# Save only the relevant columns\n",
        "balanced_df[['subject_id', 'hadm_id', 'text', 'mortality_30d']].to_csv(\"discharge_balanced.csv\", index=False)\n",
        "print(\"Saved file: discharge_balanced.csv with shape:\", balanced_df.shape)\n"
      ],
      "metadata": {
        "id": "owjpou4Fn2qz",
        "colab": {
          "base_uri": "https://localhost:8080/"
        },
        "outputId": "adacb40f-ced7-4878-d9ef-1d0cda9fdd8b"
      },
      "execution_count": null,
      "outputs": [
        {
          "output_type": "stream",
          "name": "stdout",
          "text": [
            "Saved file: discharge_balanced.csv with shape: (30000, 11)\n"
          ]
        }
      ]
    }
  ]
}